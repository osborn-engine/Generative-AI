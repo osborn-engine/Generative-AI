{
  "metadata": {
    "kernelspec": {
      "name": "python",
      "display_name": "Python (Pyodide)",
      "language": "python"
    },
    "language_info": {
      "codemirror_mode": {
        "name": "python",
        "version": 3
      },
      "file_extension": ".py",
      "mimetype": "text/x-python",
      "name": "python",
      "nbconvert_exporter": "python",
      "pygments_lexer": "ipython3",
      "version": "3.8"
    }
  },
  "nbformat_minor": 4,
  "nbformat": 4,
  "cells": [
    {
      "cell_type": "markdown",
      "source": "<p style=\"text-align:center\">\n    <a href=\"https://skills.network\" target=\"_blank\">\n    <img src=\"https://cf-courses-data.s3.us.cloud-object-storage.appdomain.cloud/assets/logos/SN_web_lightmode.png\" width=\"300\" alt=\"Skills Network Logo\">\n    </a>\n</p>\n",
      "metadata": {}
    },
    {
      "cell_type": "markdown",
      "source": "# Test Environment for Generative AI classroom labs\n\nThis lab provides a test environment for the codes generated using the Generative AI classroom.\n\nFollow the instructions below to set up this environment for further use.\n",
      "metadata": {}
    },
    {
      "cell_type": "markdown",
      "source": "# Setup\n",
      "metadata": {}
    },
    {
      "cell_type": "markdown",
      "source": "### Install required libraries\n\nIn case of a requirement of installing certain python libraries for use in your task, you may do so as shown below.\n",
      "metadata": {}
    },
    {
      "cell_type": "code",
      "source": "%pip install seaborn\nimport piplite\n\nawait piplite.install(['nbformat', 'plotly'])",
      "metadata": {
        "trusted": true
      },
      "outputs": [],
      "execution_count": 1
    },
    {
      "cell_type": "markdown",
      "source": "### Dataset URL from the GenAI lab\nUse the URL provided in the GenAI lab in the cell below. \n",
      "metadata": {}
    },
    {
      "cell_type": "code",
      "source": "URL = URL = \"https://cf-courses-data.s3.us.cloud-object-storage.appdomain.cloud/IBMDeveloperSkillsNetwork-DA0101EN-Coursera/laptop_pricing_dataset_mod1.csv\"",
      "metadata": {
        "trusted": true
      },
      "outputs": [],
      "execution_count": 2
    },
    {
      "cell_type": "markdown",
      "source": "### Downloading the dataset\n\nExecute the following code to download the dataset in to the interface.\n\n> Please note that this step is essential in JupyterLite. If you are using a downloaded version of this notebook and running it on JupyterLabs, then you can skip this step and directly use the URL in pandas.read_csv() function to read the dataset as a dataframe\n",
      "metadata": {}
    },
    {
      "cell_type": "code",
      "source": "from pyodide.http import pyfetch\n\nasync def download(url, filename):\n    response = await pyfetch(url)\n    if response.status == 200:\n        with open(filename, \"wb\") as f:\n            f.write(await response.bytes())\n\nfile_path = URL\n\nawait download(path, \"dataset.csv\")",
      "metadata": {
        "trusted": true
      },
      "outputs": [],
      "execution_count": 10
    },
    {
      "cell_type": "markdown",
      "source": "---\n",
      "metadata": {}
    },
    {
      "cell_type": "markdown",
      "source": "# Test Environment\n",
      "metadata": {}
    },
    {
      "cell_type": "code",
      "source": "# Keep appending the code generated to this cell, or add more cells below this to execute in parts\nimport pandas as pd\n\ndef read_csv_file(file_path):\n    \"\"\"\n    Reads a CSV file into a Pandas DataFrame.\n\n    Args:\n        file_path (str): The path to the CSV file.\n\n    Returns:\n        pd.DataFrame: The contents of the CSV file as a Pandas DataFrame.\n    \"\"\"\n    try:\n        # Attempt to read the CSV file\n        df = pd.read_csv(file_path)\n        return df\n    except FileNotFoundError:\n        print(f\"Error: The file '{file_path}' was not found.\")\n        return None\n    except pd.errors.EmptyDataError:\n        print(f\"Error: The file '{file_path}' is empty.\")\n        return None\n    except pd.errors.ParserError as e:\n        print(f\"Error: An error occurred while parsing the file '{file_path}': {e}\")\n        return None\n\n# Example usage:\nfile_path = 'dataset.csv'  # Replace with your file path\ndf = read_csv_file(file_path)\nif df is not None:\n    print(df.head())  # Print the first few rows of the DataFrame",
      "metadata": {
        "trusted": true
      },
      "outputs": [
        {
          "name": "stdout",
          "text": "   Unnamed: 0 Manufacturer  Category     Screen  GPU  OS  CPU_core  \\\n0           0         Acer         4  IPS Panel    2   1         5   \n1           1         Dell         3    Full HD    1   1         3   \n2           2         Dell         3    Full HD    1   1         7   \n3           3         Dell         4  IPS Panel    2   1         5   \n4           4           HP         4    Full HD    2   1         7   \n\n   Screen_Size_cm  CPU_frequency  RAM_GB  Storage_GB_SSD  Weight_kg  Price  \n0          35.560            1.6       8             256       1.60    978  \n1          39.624            2.0       4             256       2.20    634  \n2          39.624            2.7       8             256       2.20    946  \n3          33.782            1.6       8             128       1.22   1244  \n4          39.624            1.8       8             256       1.91    837  \n",
          "output_type": "stream"
        }
      ],
      "execution_count": 12
    },
    {
      "cell_type": "code",
      "source": "# Create a sample DataFrame with missing values\ndata = {\n    'Name': ['John', 'Mary', 'David', 'Jane', 'Bob', None, None, None],\n    'Age': [25, 31, 42, 28, 35, None, None, None],\n    'City': ['New York', 'Chicago', 'Los Angeles', 'Houston', 'Seattle', None, None, None]\n}\ndf = pd.DataFrame(data)\n\n# Print the original DataFrame\nprint(\"Original DataFrame:\")\nprint(df)\n\n# Identify columns with missing values\nmissing_columns = df.isnull().sum()\n\n# Print the columns with missing values\nprint(\"\\nColumns with missing values:\")\nprint(missing_columns)\n\n# Identify columns with missing values by column name\nmissing_columns_by_name = df.columns[missing_columns > 0]\n\n# Print the columns with missing values by column name\nprint(\"\\nColumns with missing values by column name:\")\nprint(missing_columns_by_name)",
      "metadata": {
        "trusted": true
      },
      "outputs": [
        {
          "name": "stdout",
          "text": "Original DataFrame:\n    Name   Age         City\n0   John  25.0     New York\n1   Mary  31.0      Chicago\n2  David  42.0  Los Angeles\n3   Jane  28.0      Houston\n4    Bob  35.0      Seattle\n5   None   NaN         None\n6   None   NaN         None\n7   None   NaN         None\n\nColumns with missing values:\nName    3\nAge     3\nCity    3\ndtype: int64\n\nColumns with missing values by column name:\nIndex(['Name', 'Age', 'City'], dtype='object')\n",
          "output_type": "stream"
        }
      ],
      "execution_count": 13
    },
    {
      "cell_type": "code",
      "source": "import numpy as np\n\n# Create a sample DataFrame with missing values\ndata = {\n    'Screen_Size_cm': [100, 120, 150, 180, 200, None, 220, 250],\n    'Weight_kg': [50, 60, 70, 80, 90, 100, 110, 120],\n    'Age': [25, 30, 35, 40, 45, 50, 55, 60]\n}\ndf = pd.DataFrame(data)\n\n# Replace missing values in 'Screen_Size_cm' with the most frequent value\ndf['Screen_Size_cm'] = df['Screen_Size_cm'].fillna(df['Screen_Size_cm'].mode().iloc[0])\n\n# Replace missing values in 'Weight_kg' with the mean value\ndf['Weight_kg'] = df['Weight_kg'].fillna(df['Weight_kg'].mean())\n\n# Print the DataFrame after replacement\nprint(\"DataFrame after replacing missing values in 'Screen_Size_cm':\")\nprint(df)\n\nprint(\"\\nDataFrame after replacing missing values in 'Weight_kg':\")\nprint(df)",
      "metadata": {
        "trusted": true
      },
      "outputs": [
        {
          "name": "stdout",
          "text": "DataFrame after replacing missing values in 'Screen_Size_cm':\n   Screen_Size_cm  Weight_kg  Age\n0           100.0         50   25\n1           120.0         60   30\n2           150.0         70   35\n3           180.0         80   40\n4           200.0         90   45\n5           100.0        100   50\n6           220.0        110   55\n7           250.0        120   60\n\nDataFrame after replacing missing values in 'Weight_kg':\n   Screen_Size_cm  Weight_kg  Age\n0           100.0         50   25\n1           120.0         60   30\n2           150.0         70   35\n3           180.0         80   40\n4           200.0         90   45\n5           100.0        100   50\n6           220.0        110   55\n7           250.0        120   60\n",
          "output_type": "stream"
        }
      ],
      "execution_count": 15
    },
    {
      "cell_type": "code",
      "source": "# Create a sample DataFrame with missing values\ndata = {\n    'Screen_Size_cm': [100, 120, 150, 180, 200, None, 220, 250],\n    'Weight_kg': [50, 60, 70, 80, 90, 100, 110, 120],\n    'Age': [25, 30, 35, 40, 45, 50, 55, 60]\n}\ndf = pd.DataFrame(data)\n\n# Replace missing values in 'Screen_Size_cm' with the most frequent value\nmost_frequent_value = df['Screen_Size_cm'].mode()[0]\ndf['Screen_Size_cm'].fillna(most_frequent_value, inplace=True)\n\n# Replace missing values in 'Weight_kg' with the mean value\nmean_value = df['Weight_kg'].mean()\ndf['Weight_kg'].fillna(mean_value, inplace=True)\n\n# Additional details:\n# - The `.mode()` method is used to calculate the most frequent value in a column.\n# - The `[0]` indexing is used to retrieve the most frequent value from the resulting Series.\n# - The `.fillna()` method is used to replace missing values with a specified value.\n# - The `inplace=True` parameter is used to modify the original data frame instead of creating a new one.\n\n# Now, use the modified 'df' data frame\nprint(\"Modified DataFrame:\")\nprint(df)",
      "metadata": {
        "trusted": true
      },
      "outputs": [
        {
          "name": "stderr",
          "text": "<ipython-input-16-76f059674ad6>:11: FutureWarning: A value is trying to be set on a copy of a DataFrame or Series through chained assignment using an inplace method.\nThe behavior will change in pandas 3.0. This inplace method will never work because the intermediate object on which we are setting values always behaves as a copy.\n\nFor example, when doing 'df[col].method(value, inplace=True)', try using 'df.method({col: value}, inplace=True)' or df[col] = df[col].method(value) instead, to perform the operation inplace on the original object.\n\n\n  df['Screen_Size_cm'].fillna(most_frequent_value, inplace=True)\n<ipython-input-16-76f059674ad6>:15: FutureWarning: A value is trying to be set on a copy of a DataFrame or Series through chained assignment using an inplace method.\nThe behavior will change in pandas 3.0. This inplace method will never work because the intermediate object on which we are setting values always behaves as a copy.\n\nFor example, when doing 'df[col].method(value, inplace=True)', try using 'df.method({col: value}, inplace=True)' or df[col] = df[col].method(value) instead, to perform the operation inplace on the original object.\n\n\n  df['Weight_kg'].fillna(mean_value, inplace=True)\n",
          "output_type": "stream"
        },
        {
          "name": "stdout",
          "text": "Modified DataFrame:\n   Screen_Size_cm  Weight_kg  Age\n0           100.0         50   25\n1           120.0         60   30\n2           150.0         70   35\n3           180.0         80   40\n4           200.0         90   45\n5           100.0        100   50\n6           220.0        110   55\n7           250.0        120   60\n",
          "output_type": "stream"
        }
      ],
      "execution_count": 16
    },
    {
      "cell_type": "code",
      "source": "# Create a sample DataFrame with missing values\ndata = {\n    'Screen_Size_cm': [100, 120, 150, 180, 200, None, 220, 250],\n    'Weight_kg': [50, 60, 70, 80, 90, 100, 110, 120],\n    'Age': [25, 30, 35, 40, 45, 50, 55, 60]\n}\ndf = pd.DataFrame(data)\n\n# Print the original DataFrame\nprint(\"Original DataFrame:\")\nprint(df)\n\n# Change the data type of 'Screen_Size_cm' and 'Weight_kg' to float\ndf['Screen_Size_cm'] = df['Screen_Size_cm'].astype(float)\ndf['Weight_kg'] = df['Weight_kg'].astype(float)\n\n# Print the modified DataFrame\nprint(\"\\nModified DataFrame:\")\nprint(df)",
      "metadata": {
        "trusted": true
      },
      "outputs": [
        {
          "name": "stdout",
          "text": "Original DataFrame:\n   Screen_Size_cm  Weight_kg  Age\n0           100.0         50   25\n1           120.0         60   30\n2           150.0         70   35\n3           180.0         80   40\n4           200.0         90   45\n5             NaN        100   50\n6           220.0        110   55\n7           250.0        120   60\n\nModified DataFrame:\n   Screen_Size_cm  Weight_kg  Age\n0           100.0       50.0   25\n1           120.0       60.0   30\n2           150.0       70.0   35\n3           180.0       80.0   40\n4           200.0       90.0   45\n5             NaN      100.0   50\n6           220.0      110.0   55\n7           250.0      120.0   60\n",
          "output_type": "stream"
        }
      ],
      "execution_count": 17
    },
    {
      "cell_type": "code",
      "source": "# Create a sample DataFrame with missing values\ndata = {\n    'Screen_Size_cm': [100, 120, 150, 180, 200, None, 220, 250],\n    'Weight_kg': [50, 60, 70, 80, 90, 100, 110, 120],\n    'Age': [25, 30, 35, 40, 45, 50, 55, 60]\n}\ndf = pd.DataFrame(data)\n\n# Print the original DataFrame\nprint(\"Original DataFrame:\")\nprint(df)\n\n# Convert 'Screen_Size_cm' to inches and modify the attribute name\ndf['Screen_Size_inch'] = df['Screen_Size_cm'] * 2.54\ndf.rename(columns={'Screen_Size_cm': 'Screen_Size_inch'}, inplace=True)\n\n# Convert 'Weight_kg' to pounds and modify the attribute name\ndf['Weight_pounds'] = df['Weight_kg'] * 2.20462\ndf.rename(columns={'Weight_kg': 'Weight_pounds'}, inplace=True)\n\n# Print the modified DataFrame\nprint(\"\\nModified DataFrame:\")\nprint(df)",
      "metadata": {
        "trusted": true
      },
      "outputs": [
        {
          "name": "stdout",
          "text": "Original DataFrame:\n   Screen_Size_cm  Weight_kg  Age\n0           100.0         50   25\n1           120.0         60   30\n2           150.0         70   35\n3           180.0         80   40\n4           200.0         90   45\n5             NaN        100   50\n6           220.0        110   55\n7           250.0        120   60\n\nModified DataFrame:\n   Screen_Size_inch  Weight_pounds  Age  Screen_Size_inch  Weight_pounds\n0             100.0             50   25             254.0       110.2310\n1             120.0             60   30             304.8       132.2772\n2             150.0             70   35             381.0       154.3234\n3             180.0             80   40             457.2       176.3696\n4             200.0             90   45             508.0       198.4158\n5               NaN            100   50               NaN       220.4620\n6             220.0            110   55             558.8       242.5082\n7             250.0            120   60             635.0       264.5544\n",
          "output_type": "stream"
        }
      ],
      "execution_count": 18
    },
    {
      "cell_type": "code",
      "source": "# Create a sample DataFrame with missing values\ndata = {\n    'CPU_frequency': [100, 120, 150, 180, 200, 220, 250, 300],\n    'Memory': [8, 10, 12, 14, 16, 18, 20, 22]\n}\ndf = pd.DataFrame(data)\n\n# Print the original DataFrame\nprint(\"Original DataFrame:\")\nprint(df)\n\n# Find the maximum CPU_frequency\nmax_cpu_frequency = df['CPU_frequency'].max()\n\n# Normalize CPU_frequency to a range of 0 to 100\ndf['Normalized_CPU_frequency'] = (df['CPU_frequency'] - min(df['CPU_frequency']) / (max(df['CPU_frequency'] - min(df['CPU_frequency'])) * 100))\n\n# Print the modified DataFrame\nprint(\"\\nModified DataFrame:\")\nprint(df)",
      "metadata": {
        "trusted": true
      },
      "outputs": [
        {
          "name": "stdout",
          "text": "Original DataFrame:\n   CPU_frequency  Memory\n0            100       8\n1            120      10\n2            150      12\n3            180      14\n4            200      16\n5            220      18\n6            250      20\n7            300      22\n\nModified DataFrame:\n   CPU_frequency  Memory  Normalized_CPU_frequency\n0            100       8                    99.995\n1            120      10                   119.995\n2            150      12                   149.995\n3            180      14                   179.995\n4            200      16                   199.995\n5            220      18                   219.995\n6            250      20                   249.995\n7            300      22                   299.995\n",
          "output_type": "stream"
        }
      ],
      "execution_count": 20
    },
    {
      "cell_type": "code",
      "source": "# Create a sample DataFrame with missing values\ndata = {\n    'Screen': ['100', '120', '150', '180', '200', '220', '250', '300'],\n    'Memory': [8, 10, 12, 14, 16, 18, 20, 22]\n}\ndf = pd.DataFrame(data)\n\n# Convert 'Screen' into indicator variables\ndf1 = pd.get_dummies(df['Screen'], drop_first=True)\n\n# Append df1 into the original data frame df\ndf = pd.concat([df, df1], axis=1)\n\n# Drop the original attribute from the data frame df\ndf = df.drop('Screen', axis=1)\n\n# Print the modified DataFrame\nprint(\"Modified DataFrame:\")\nprint(df)",
      "metadata": {
        "trusted": true
      },
      "outputs": [
        {
          "name": "stdout",
          "text": "Modified DataFrame:\n   Memory    120    150    180    200    220    250    300\n0       8  False  False  False  False  False  False  False\n1      10   True  False  False  False  False  False  False\n2      12  False   True  False  False  False  False  False\n3      14  False  False   True  False  False  False  False\n4      16  False  False  False   True  False  False  False\n5      18  False  False  False  False   True  False  False\n6      20  False  False  False  False  False   True  False\n7      22  False  False  False  False  False  False   True\n",
          "output_type": "stream"
        }
      ],
      "execution_count": 21
    },
    {
      "cell_type": "code",
      "source": "# Create a sample DataFrame with missing values\ndata = {\n    'Price': [100, 120, 150, 180, 200, 220, 250, 300],\n    'Currency': ['USD', 'USD', 'EUR', 'EUR', 'EUR', 'EUR', 'EUR', 'EUR']\n}\ndf = pd.DataFrame(data)\n\n# Convert 'Price' from USD to Euros\ndf['Price_EUR'] = df['Price'] * 0.88\n\n# Print the modified DataFrame\nprint(\"Modified DataFrame:\")\nprint(df)\n\n# Print the conversion rate\nprint(\"\\nConversion rate: 1 USD = 0.88 EUR\")",
      "metadata": {
        "trusted": true
      },
      "outputs": [
        {
          "name": "stdout",
          "text": "Modified DataFrame:\n   Price Currency  Price_EUR\n0    100      USD       88.0\n1    120      USD      105.6\n2    150      EUR      132.0\n3    180      EUR      158.4\n4    200      EUR      176.0\n5    220      EUR      193.6\n6    250      EUR      220.0\n7    300      EUR      264.0\n\nConversion rate: 1 USD = 0.88 EUR\n",
          "output_type": "stream"
        }
      ],
      "execution_count": 23
    },
    {
      "cell_type": "code",
      "source": "# Create a sample DataFrame with missing values\ndata = {\n    'CPU_frequency': [100, 120, 150, 180, 200, 220, 250, 300],\n    'Memory': [8, 10, 12, 14, 16, 18, 20, 22]\n}\ndf = pd.DataFrame(data)\n\n# Perform min-max normalization on CPU_frequency\ndf['Normalized_CPU_frequency'] = (df['CPU_frequency'] - df['CPU_frequency'].min()) / (df['CPU_frequency'].max() - df['CPU_frequency'].min())\n\n# Print the modified DataFrame\nprint(\"Modified DataFrame:\")\nprint(df)\n\n# Print the normalized CPU_frequency\nprint(\"\\nNormalized CPU_frequency:\")\nprint(df['Normalized_CPU_frequency'])\n\n# Print the range of normalized CPU_frequency\nprint(\"\\nRange of normalized CPU_frequency:\")\nprint(df['Normalized_CPU_frequency'].min(), df['Normalized_CPU_frequency'].max())\n",
      "metadata": {
        "trusted": true
      },
      "outputs": [
        {
          "name": "stdout",
          "text": "Modified DataFrame:\n   CPU_frequency  Memory  Normalized_CPU_frequency\n0            100       8                      0.00\n1            120      10                      0.10\n2            150      12                      0.25\n3            180      14                      0.40\n4            200      16                      0.50\n5            220      18                      0.60\n6            250      20                      0.75\n7            300      22                      1.00\n\nNormalized CPU_frequency:\n0    0.00\n1    0.10\n2    0.25\n3    0.40\n4    0.50\n5    0.60\n6    0.75\n7    1.00\nName: Normalized_CPU_frequency, dtype: float64\n\nRange of normalized CPU_frequency:\n0.0 1.0\n",
          "output_type": "stream"
        }
      ],
      "execution_count": 24
    },
    {
      "cell_type": "markdown",
      "source": "## Authors\n",
      "metadata": {}
    },
    {
      "cell_type": "markdown",
      "source": "[Abhishek Gagneja](https://www.linkedin.com/in/abhishek-gagneja-23051987/)\n",
      "metadata": {}
    },
    {
      "cell_type": "markdown",
      "source": "## Change Log\n",
      "metadata": {}
    },
    {
      "cell_type": "markdown",
      "source": "|Date (YYYY-MM-DD)|Version|Changed By|Change Description|\n|-|-|-|-|\n|2023-12-10|0.1|Abhishek Gagneja|Initial Draft created|\n",
      "metadata": {}
    },
    {
      "cell_type": "markdown",
      "source": "Copyright © 2023 IBM Corporation. All rights reserved.\n",
      "metadata": {}
    }
  ]
}